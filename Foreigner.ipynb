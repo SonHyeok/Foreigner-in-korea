{
  "nbformat": 4,
  "nbformat_minor": 0,
  "metadata": {
    "colab": {
      "name": "Foreigner.ipynb",
      "provenance": [],
      "collapsed_sections": [],
      "mount_file_id": "1SXJizIetUMTzxRgHfVBYJJraS-eOewDu",
      "authorship_tag": "ABX9TyM2Ur2TKlobTgmAUmR+5MX5",
      "include_colab_link": true
    },
    "kernelspec": {
      "name": "python3",
      "display_name": "Python 3"
    },
    "language_info": {
      "name": "python"
    }
  },
  "cells": [
    {
      "cell_type": "markdown",
      "metadata": {
        "id": "view-in-github",
        "colab_type": "text"
      },
      "source": [
        "<a href=\"https://colab.research.google.com/github/SonHyeok/Foreigner-in-korea/blob/main/Foreigner.ipynb\" target=\"_parent\"><img src=\"https://colab.research.google.com/assets/colab-badge.svg\" alt=\"Open In Colab\"/></a>"
      ]
    },
    {
      "cell_type": "code",
      "metadata": {
        "id": "c9C4e0vxw7Rg"
      },
      "source": [
        "import pandas as pd\n",
        "import matplotlib.pyplot as plt\n"
      ],
      "execution_count": 1,
      "outputs": []
    },
    {
      "cell_type": "code",
      "metadata": {
        "colab": {
          "base_uri": "https://localhost:8080/"
        },
        "id": "REzEREuc_-Ye",
        "outputId": "8812084c-efb3-4017-a6b2-16557ac0e06f"
      },
      "source": [
        "#한글폰트 다운로드\n",
        "!sudo apt-get install -y fonts-nanum\n",
        "!sudo fc-cache -fv\n",
        "!rm ~/.cache/matplotlib -rf\n",
        "\n",
        "#한글폰트 설정\n",
        "plt.rc('font', family='NanumBarunGothic') "
      ],
      "execution_count": 2,
      "outputs": [
        {
          "output_type": "stream",
          "name": "stdout",
          "text": [
            "Reading package lists... Done\n",
            "Building dependency tree       \n",
            "Reading state information... Done\n",
            "fonts-nanum is already the newest version (20170925-1).\n",
            "0 upgraded, 0 newly installed, 0 to remove and 40 not upgraded.\n",
            "/usr/share/fonts: caching, new cache contents: 0 fonts, 1 dirs\n",
            "/usr/share/fonts/truetype: caching, new cache contents: 0 fonts, 3 dirs\n",
            "/usr/share/fonts/truetype/humor-sans: caching, new cache contents: 1 fonts, 0 dirs\n",
            "/usr/share/fonts/truetype/liberation: caching, new cache contents: 16 fonts, 0 dirs\n",
            "/usr/share/fonts/truetype/nanum: caching, new cache contents: 10 fonts, 0 dirs\n",
            "/usr/local/share/fonts: caching, new cache contents: 0 fonts, 0 dirs\n",
            "/root/.local/share/fonts: skipping, no such directory\n",
            "/root/.fonts: skipping, no such directory\n",
            "/var/cache/fontconfig: cleaning cache directory\n",
            "/root/.cache/fontconfig: not cleaning non-existent cache directory\n",
            "/root/.fontconfig: not cleaning non-existent cache directory\n",
            "fc-cache: succeeded\n"
          ]
        }
      ]
    },
    {
      "cell_type": "code",
      "metadata": {
        "id": "qVAh0wCKxAiV"
      },
      "source": [
        "df = pd.read_csv('/content/drive/MyDrive/개인 공공데이터 분석 자료/data/법무부_외국인체류데이터_20191231.csv', encoding = 'cp949')"
      ],
      "execution_count": 3,
      "outputs": []
    },
    {
      "cell_type": "code",
      "metadata": {
        "colab": {
          "base_uri": "https://localhost:8080/",
          "height": 346
        },
        "id": "WK3QUpgBxAnf",
        "outputId": "eb6827e6-3a09-4ce5-ea26-6022f50ecc52"
      },
      "source": [
        "df.head()"
      ],
      "execution_count": 4,
      "outputs": [
        {
          "output_type": "execute_result",
          "data": {
            "text/html": [
              "<div>\n",
              "<style scoped>\n",
              "    .dataframe tbody tr th:only-of-type {\n",
              "        vertical-align: middle;\n",
              "    }\n",
              "\n",
              "    .dataframe tbody tr th {\n",
              "        vertical-align: top;\n",
              "    }\n",
              "\n",
              "    .dataframe thead th {\n",
              "        text-align: right;\n",
              "    }\n",
              "</style>\n",
              "<table border=\"1\" class=\"dataframe\">\n",
              "  <thead>\n",
              "    <tr style=\"text-align: right;\">\n",
              "      <th></th>\n",
              "      <th>대륙</th>\n",
              "      <th>국적</th>\n",
              "      <th>성별</th>\n",
              "      <th>D-1(문화예술)</th>\n",
              "      <th>D-2(유학)</th>\n",
              "      <th>D-3(기술연수)</th>\n",
              "      <th>D-4(일반연수)</th>\n",
              "      <th>D-5(취재)</th>\n",
              "      <th>D-6(종교)</th>\n",
              "      <th>D-7(주재)</th>\n",
              "      <th>D-8(기업투자)</th>\n",
              "      <th>D-9(무역경영)</th>\n",
              "      <th>D-10(구직)</th>\n",
              "      <th>E-1(교수)</th>\n",
              "      <th>E-2(회화강사)</th>\n",
              "      <th>E-3(연구)</th>\n",
              "      <th>E-4(기술지도)</th>\n",
              "      <th>E-5(전문직업)</th>\n",
              "      <th>E-6(예술흥행)</th>\n",
              "      <th>E-7(특정활동)</th>\n",
              "      <th>E-9(비전문취업)</th>\n",
              "      <th>E-10(선원취업)</th>\n",
              "      <th>F-1(방문동거)</th>\n",
              "      <th>F-2(거주)</th>\n",
              "      <th>F-3(동반)</th>\n",
              "      <th>F-5(영주)</th>\n",
              "      <th>F-6(결혼이민)</th>\n",
              "      <th>G-1(기타)</th>\n",
              "      <th>H-1(관광취업)</th>\n",
              "      <th>H-2(방문취업)</th>\n",
              "      <th>기타(other)</th>\n",
              "    </tr>\n",
              "  </thead>\n",
              "  <tbody>\n",
              "    <tr>\n",
              "      <th>0</th>\n",
              "      <td>아시아주</td>\n",
              "      <td>한국계중국인</td>\n",
              "      <td>남성</td>\n",
              "      <td>1.0</td>\n",
              "      <td>465.0</td>\n",
              "      <td>80.0</td>\n",
              "      <td>130.0</td>\n",
              "      <td>1.0</td>\n",
              "      <td>1.0</td>\n",
              "      <td>12.0</td>\n",
              "      <td>35.0</td>\n",
              "      <td>2.0</td>\n",
              "      <td>NaN</td>\n",
              "      <td>3.0</td>\n",
              "      <td>NaN</td>\n",
              "      <td>2.0</td>\n",
              "      <td>NaN</td>\n",
              "      <td>NaN</td>\n",
              "      <td>4.0</td>\n",
              "      <td>18.0</td>\n",
              "      <td>352.0</td>\n",
              "      <td>1.0</td>\n",
              "      <td>9474.0</td>\n",
              "      <td>5207.0</td>\n",
              "      <td>18.0</td>\n",
              "      <td>47026.0</td>\n",
              "      <td>6693.0</td>\n",
              "      <td>162.0</td>\n",
              "      <td>NaN</td>\n",
              "      <td>117420.0</td>\n",
              "      <td>5.0</td>\n",
              "    </tr>\n",
              "    <tr>\n",
              "      <th>1</th>\n",
              "      <td>아시아주</td>\n",
              "      <td>한국계중국인</td>\n",
              "      <td>여성</td>\n",
              "      <td>1.0</td>\n",
              "      <td>682.0</td>\n",
              "      <td>59.0</td>\n",
              "      <td>112.0</td>\n",
              "      <td>NaN</td>\n",
              "      <td>NaN</td>\n",
              "      <td>1.0</td>\n",
              "      <td>19.0</td>\n",
              "      <td>2.0</td>\n",
              "      <td>NaN</td>\n",
              "      <td>3.0</td>\n",
              "      <td>3.0</td>\n",
              "      <td>1.0</td>\n",
              "      <td>NaN</td>\n",
              "      <td>NaN</td>\n",
              "      <td>NaN</td>\n",
              "      <td>6.0</td>\n",
              "      <td>257.0</td>\n",
              "      <td>NaN</td>\n",
              "      <td>10679.0</td>\n",
              "      <td>5729.0</td>\n",
              "      <td>35.0</td>\n",
              "      <td>41833.0</td>\n",
              "      <td>10683.0</td>\n",
              "      <td>70.0</td>\n",
              "      <td>NaN</td>\n",
              "      <td>75235.0</td>\n",
              "      <td>3.0</td>\n",
              "    </tr>\n",
              "    <tr>\n",
              "      <th>2</th>\n",
              "      <td>아시아주</td>\n",
              "      <td>중국</td>\n",
              "      <td>남성</td>\n",
              "      <td>10.0</td>\n",
              "      <td>22044.0</td>\n",
              "      <td>375.0</td>\n",
              "      <td>4651.0</td>\n",
              "      <td>10.0</td>\n",
              "      <td>11.0</td>\n",
              "      <td>246.0</td>\n",
              "      <td>764.0</td>\n",
              "      <td>109.0</td>\n",
              "      <td>899.0</td>\n",
              "      <td>88.0</td>\n",
              "      <td>44.0</td>\n",
              "      <td>232.0</td>\n",
              "      <td>1.0</td>\n",
              "      <td>NaN</td>\n",
              "      <td>121.0</td>\n",
              "      <td>6177.0</td>\n",
              "      <td>1989.0</td>\n",
              "      <td>2601.0</td>\n",
              "      <td>14275.0</td>\n",
              "      <td>6863.0</td>\n",
              "      <td>551.0</td>\n",
              "      <td>11234.0</td>\n",
              "      <td>4467.0</td>\n",
              "      <td>2779.0</td>\n",
              "      <td>NaN</td>\n",
              "      <td>16.0</td>\n",
              "      <td>272.0</td>\n",
              "    </tr>\n",
              "    <tr>\n",
              "      <th>3</th>\n",
              "      <td>아시아주</td>\n",
              "      <td>중국</td>\n",
              "      <td>여성</td>\n",
              "      <td>6.0</td>\n",
              "      <td>37619.0</td>\n",
              "      <td>253.0</td>\n",
              "      <td>5082.0</td>\n",
              "      <td>11.0</td>\n",
              "      <td>28.0</td>\n",
              "      <td>79.0</td>\n",
              "      <td>221.0</td>\n",
              "      <td>33.0</td>\n",
              "      <td>1404.0</td>\n",
              "      <td>78.0</td>\n",
              "      <td>708.0</td>\n",
              "      <td>90.0</td>\n",
              "      <td>NaN</td>\n",
              "      <td>NaN</td>\n",
              "      <td>97.0</td>\n",
              "      <td>3466.0</td>\n",
              "      <td>274.0</td>\n",
              "      <td>1.0</td>\n",
              "      <td>22374.0</td>\n",
              "      <td>10856.0</td>\n",
              "      <td>1163.0</td>\n",
              "      <td>22213.0</td>\n",
              "      <td>19586.0</td>\n",
              "      <td>1325.0</td>\n",
              "      <td>NaN</td>\n",
              "      <td>17.0</td>\n",
              "      <td>268.0</td>\n",
              "    </tr>\n",
              "    <tr>\n",
              "      <th>4</th>\n",
              "      <td>아시아주</td>\n",
              "      <td>베트남</td>\n",
              "      <td>남성</td>\n",
              "      <td>2.0</td>\n",
              "      <td>8120.0</td>\n",
              "      <td>81.0</td>\n",
              "      <td>20420.0</td>\n",
              "      <td>NaN</td>\n",
              "      <td>37.0</td>\n",
              "      <td>26.0</td>\n",
              "      <td>20.0</td>\n",
              "      <td>5.0</td>\n",
              "      <td>271.0</td>\n",
              "      <td>28.0</td>\n",
              "      <td>NaN</td>\n",
              "      <td>167.0</td>\n",
              "      <td>1.0</td>\n",
              "      <td>NaN</td>\n",
              "      <td>14.0</td>\n",
              "      <td>1910.0</td>\n",
              "      <td>32979.0</td>\n",
              "      <td>8030.0</td>\n",
              "      <td>13180.0</td>\n",
              "      <td>1187.0</td>\n",
              "      <td>474.0</td>\n",
              "      <td>372.0</td>\n",
              "      <td>2691.0</td>\n",
              "      <td>672.0</td>\n",
              "      <td>NaN</td>\n",
              "      <td>NaN</td>\n",
              "      <td>108.0</td>\n",
              "    </tr>\n",
              "  </tbody>\n",
              "</table>\n",
              "</div>"
            ],
            "text/plain": [
              "     대륙      국적  성별  D-1(문화예술)  ...  G-1(기타)  H-1(관광취업)  H-2(방문취업)  기타(other)\n",
              "0  아시아주  한국계중국인  남성        1.0  ...    162.0        NaN   117420.0        5.0\n",
              "1  아시아주  한국계중국인  여성        1.0  ...     70.0        NaN    75235.0        3.0\n",
              "2  아시아주      중국  남성       10.0  ...   2779.0        NaN       16.0      272.0\n",
              "3  아시아주      중국  여성        6.0  ...   1325.0        NaN       17.0      268.0\n",
              "4  아시아주     베트남  남성        2.0  ...    672.0        NaN        NaN      108.0\n",
              "\n",
              "[5 rows x 31 columns]"
            ]
          },
          "metadata": {},
          "execution_count": 4
        }
      ]
    },
    {
      "cell_type": "code",
      "metadata": {
        "colab": {
          "base_uri": "https://localhost:8080/",
          "height": 330
        },
        "id": "3ANm23KFxAsv",
        "outputId": "74768728-2f8b-4fc3-f8b1-8519534f69fc"
      },
      "source": [
        "df.tail()"
      ],
      "execution_count": 5,
      "outputs": [
        {
          "output_type": "execute_result",
          "data": {
            "text/html": [
              "<div>\n",
              "<style scoped>\n",
              "    .dataframe tbody tr th:only-of-type {\n",
              "        vertical-align: middle;\n",
              "    }\n",
              "\n",
              "    .dataframe tbody tr th {\n",
              "        vertical-align: top;\n",
              "    }\n",
              "\n",
              "    .dataframe thead th {\n",
              "        text-align: right;\n",
              "    }\n",
              "</style>\n",
              "<table border=\"1\" class=\"dataframe\">\n",
              "  <thead>\n",
              "    <tr style=\"text-align: right;\">\n",
              "      <th></th>\n",
              "      <th>대륙</th>\n",
              "      <th>국적</th>\n",
              "      <th>성별</th>\n",
              "      <th>D-1(문화예술)</th>\n",
              "      <th>D-2(유학)</th>\n",
              "      <th>D-3(기술연수)</th>\n",
              "      <th>D-4(일반연수)</th>\n",
              "      <th>D-5(취재)</th>\n",
              "      <th>D-6(종교)</th>\n",
              "      <th>D-7(주재)</th>\n",
              "      <th>D-8(기업투자)</th>\n",
              "      <th>D-9(무역경영)</th>\n",
              "      <th>D-10(구직)</th>\n",
              "      <th>E-1(교수)</th>\n",
              "      <th>E-2(회화강사)</th>\n",
              "      <th>E-3(연구)</th>\n",
              "      <th>E-4(기술지도)</th>\n",
              "      <th>E-5(전문직업)</th>\n",
              "      <th>E-6(예술흥행)</th>\n",
              "      <th>E-7(특정활동)</th>\n",
              "      <th>E-9(비전문취업)</th>\n",
              "      <th>E-10(선원취업)</th>\n",
              "      <th>F-1(방문동거)</th>\n",
              "      <th>F-2(거주)</th>\n",
              "      <th>F-3(동반)</th>\n",
              "      <th>F-5(영주)</th>\n",
              "      <th>F-6(결혼이민)</th>\n",
              "      <th>G-1(기타)</th>\n",
              "      <th>H-1(관광취업)</th>\n",
              "      <th>H-2(방문취업)</th>\n",
              "      <th>기타(other)</th>\n",
              "    </tr>\n",
              "  </thead>\n",
              "  <tbody>\n",
              "    <tr>\n",
              "      <th>366</th>\n",
              "      <td>기타</td>\n",
              "      <td>무국적</td>\n",
              "      <td>여성</td>\n",
              "      <td>NaN</td>\n",
              "      <td>NaN</td>\n",
              "      <td>NaN</td>\n",
              "      <td>1.0</td>\n",
              "      <td>NaN</td>\n",
              "      <td>NaN</td>\n",
              "      <td>NaN</td>\n",
              "      <td>NaN</td>\n",
              "      <td>NaN</td>\n",
              "      <td>NaN</td>\n",
              "      <td>NaN</td>\n",
              "      <td>NaN</td>\n",
              "      <td>NaN</td>\n",
              "      <td>NaN</td>\n",
              "      <td>NaN</td>\n",
              "      <td>NaN</td>\n",
              "      <td>NaN</td>\n",
              "      <td>NaN</td>\n",
              "      <td>NaN</td>\n",
              "      <td>44.0</td>\n",
              "      <td>10.0</td>\n",
              "      <td>NaN</td>\n",
              "      <td>1.0</td>\n",
              "      <td>8.0</td>\n",
              "      <td>1.0</td>\n",
              "      <td>NaN</td>\n",
              "      <td>NaN</td>\n",
              "      <td>NaN</td>\n",
              "    </tr>\n",
              "    <tr>\n",
              "      <th>367</th>\n",
              "      <td>기타</td>\n",
              "      <td>미등록국가</td>\n",
              "      <td>남성</td>\n",
              "      <td>NaN</td>\n",
              "      <td>8.0</td>\n",
              "      <td>NaN</td>\n",
              "      <td>1.0</td>\n",
              "      <td>NaN</td>\n",
              "      <td>NaN</td>\n",
              "      <td>NaN</td>\n",
              "      <td>NaN</td>\n",
              "      <td>NaN</td>\n",
              "      <td>1.0</td>\n",
              "      <td>NaN</td>\n",
              "      <td>NaN</td>\n",
              "      <td>NaN</td>\n",
              "      <td>NaN</td>\n",
              "      <td>NaN</td>\n",
              "      <td>NaN</td>\n",
              "      <td>NaN</td>\n",
              "      <td>NaN</td>\n",
              "      <td>NaN</td>\n",
              "      <td>18.0</td>\n",
              "      <td>1.0</td>\n",
              "      <td>NaN</td>\n",
              "      <td>NaN</td>\n",
              "      <td>NaN</td>\n",
              "      <td>NaN</td>\n",
              "      <td>NaN</td>\n",
              "      <td>NaN</td>\n",
              "      <td>NaN</td>\n",
              "    </tr>\n",
              "    <tr>\n",
              "      <th>368</th>\n",
              "      <td>기타</td>\n",
              "      <td>미등록국가</td>\n",
              "      <td>여성</td>\n",
              "      <td>NaN</td>\n",
              "      <td>5.0</td>\n",
              "      <td>NaN</td>\n",
              "      <td>NaN</td>\n",
              "      <td>NaN</td>\n",
              "      <td>NaN</td>\n",
              "      <td>NaN</td>\n",
              "      <td>NaN</td>\n",
              "      <td>NaN</td>\n",
              "      <td>1.0</td>\n",
              "      <td>NaN</td>\n",
              "      <td>NaN</td>\n",
              "      <td>NaN</td>\n",
              "      <td>NaN</td>\n",
              "      <td>NaN</td>\n",
              "      <td>NaN</td>\n",
              "      <td>NaN</td>\n",
              "      <td>NaN</td>\n",
              "      <td>NaN</td>\n",
              "      <td>12.0</td>\n",
              "      <td>NaN</td>\n",
              "      <td>NaN</td>\n",
              "      <td>NaN</td>\n",
              "      <td>1.0</td>\n",
              "      <td>NaN</td>\n",
              "      <td>NaN</td>\n",
              "      <td>NaN</td>\n",
              "      <td>NaN</td>\n",
              "    </tr>\n",
              "    <tr>\n",
              "      <th>369</th>\n",
              "      <td>기타</td>\n",
              "      <td>국제연합</td>\n",
              "      <td>남성</td>\n",
              "      <td>NaN</td>\n",
              "      <td>NaN</td>\n",
              "      <td>NaN</td>\n",
              "      <td>NaN</td>\n",
              "      <td>NaN</td>\n",
              "      <td>NaN</td>\n",
              "      <td>NaN</td>\n",
              "      <td>NaN</td>\n",
              "      <td>NaN</td>\n",
              "      <td>NaN</td>\n",
              "      <td>NaN</td>\n",
              "      <td>NaN</td>\n",
              "      <td>NaN</td>\n",
              "      <td>NaN</td>\n",
              "      <td>NaN</td>\n",
              "      <td>NaN</td>\n",
              "      <td>NaN</td>\n",
              "      <td>NaN</td>\n",
              "      <td>NaN</td>\n",
              "      <td>NaN</td>\n",
              "      <td>NaN</td>\n",
              "      <td>NaN</td>\n",
              "      <td>NaN</td>\n",
              "      <td>NaN</td>\n",
              "      <td>NaN</td>\n",
              "      <td>NaN</td>\n",
              "      <td>NaN</td>\n",
              "      <td>14.0</td>\n",
              "    </tr>\n",
              "    <tr>\n",
              "      <th>370</th>\n",
              "      <td>기타</td>\n",
              "      <td>국제연합</td>\n",
              "      <td>여성</td>\n",
              "      <td>NaN</td>\n",
              "      <td>NaN</td>\n",
              "      <td>NaN</td>\n",
              "      <td>NaN</td>\n",
              "      <td>NaN</td>\n",
              "      <td>NaN</td>\n",
              "      <td>NaN</td>\n",
              "      <td>NaN</td>\n",
              "      <td>NaN</td>\n",
              "      <td>NaN</td>\n",
              "      <td>NaN</td>\n",
              "      <td>NaN</td>\n",
              "      <td>NaN</td>\n",
              "      <td>NaN</td>\n",
              "      <td>NaN</td>\n",
              "      <td>NaN</td>\n",
              "      <td>NaN</td>\n",
              "      <td>NaN</td>\n",
              "      <td>NaN</td>\n",
              "      <td>NaN</td>\n",
              "      <td>NaN</td>\n",
              "      <td>NaN</td>\n",
              "      <td>NaN</td>\n",
              "      <td>NaN</td>\n",
              "      <td>NaN</td>\n",
              "      <td>NaN</td>\n",
              "      <td>NaN</td>\n",
              "      <td>11.0</td>\n",
              "    </tr>\n",
              "  </tbody>\n",
              "</table>\n",
              "</div>"
            ],
            "text/plain": [
              "     대륙     국적  성별  D-1(문화예술)  ...  G-1(기타)  H-1(관광취업)  H-2(방문취업)  기타(other)\n",
              "366  기타    무국적  여성        NaN  ...      1.0        NaN        NaN        NaN\n",
              "367  기타  미등록국가  남성        NaN  ...      NaN        NaN        NaN        NaN\n",
              "368  기타  미등록국가  여성        NaN  ...      NaN        NaN        NaN        NaN\n",
              "369  기타   국제연합  남성        NaN  ...      NaN        NaN        NaN       14.0\n",
              "370  기타   국제연합  여성        NaN  ...      NaN        NaN        NaN       11.0\n",
              "\n",
              "[5 rows x 31 columns]"
            ]
          },
          "metadata": {},
          "execution_count": 5
        }
      ]
    },
    {
      "cell_type": "code",
      "metadata": {
        "colab": {
          "base_uri": "https://localhost:8080/"
        },
        "id": "moaOJdPVxBAo",
        "outputId": "408627d9-b7f7-4bbb-d135-5683354304f0"
      },
      "source": [
        "df.info()"
      ],
      "execution_count": 6,
      "outputs": [
        {
          "output_type": "stream",
          "name": "stdout",
          "text": [
            "<class 'pandas.core.frame.DataFrame'>\n",
            "RangeIndex: 371 entries, 0 to 370\n",
            "Data columns (total 31 columns):\n",
            " #   Column      Non-Null Count  Dtype  \n",
            "---  ------      --------------  -----  \n",
            " 0   대륙          371 non-null    object \n",
            " 1   국적          371 non-null    object \n",
            " 2   성별          371 non-null    object \n",
            " 3   D-1(문화예술)   30 non-null     float64\n",
            " 4   D-2(유학)     332 non-null    float64\n",
            " 5   D-3(기술연수)   23 non-null     float64\n",
            " 6   D-4(일반연수)   281 non-null    float64\n",
            " 7   D-5(취재)     18 non-null     float64\n",
            " 8   D-6(종교)     132 non-null    float64\n",
            " 9   D-7(주재)     85 non-null     float64\n",
            " 10  D-8(기업투자)   150 non-null    float64\n",
            " 11  D-9(무역경영)   130 non-null    float64\n",
            " 12  D-10(구직)    196 non-null    float64\n",
            " 13  E-1(교수)     138 non-null    float64\n",
            " 14  E-2(회화강사)   56 non-null     float64\n",
            " 15  E-3(연구)     140 non-null    float64\n",
            " 16  E-4(기술지도)   40 non-null     float64\n",
            " 17  E-5(전문직업)   69 non-null     float64\n",
            " 18  E-6(예술흥행)   135 non-null    float64\n",
            " 19  E-7(특정활동)   222 non-null    float64\n",
            " 20  E-9(비전문취업)  59 non-null     float64\n",
            " 21  E-10(선원취업)  13 non-null     float64\n",
            " 22  F-1(방문동거)   213 non-null    float64\n",
            " 23  F-2(거주)     245 non-null    float64\n",
            " 24  F-3(동반)     251 non-null    float64\n",
            " 25  F-5(영주)     184 non-null    float64\n",
            " 26  F-6(결혼이민)   269 non-null    float64\n",
            " 27  G-1(기타)     189 non-null    float64\n",
            " 28  H-1(관광취업)   50 non-null     float64\n",
            " 29  H-2(방문취업)   19 non-null     float64\n",
            " 30  기타(other)   271 non-null    float64\n",
            "dtypes: float64(28), object(3)\n",
            "memory usage: 90.0+ KB\n"
          ]
        }
      ]
    },
    {
      "cell_type": "code",
      "metadata": {
        "colab": {
          "base_uri": "https://localhost:8080/"
        },
        "id": "9FQgkUsaxBFS",
        "outputId": "1b524163-569b-4b0d-ebe7-fd14ce0365aa"
      },
      "source": [
        "df.isnull().sum()"
      ],
      "execution_count": 7,
      "outputs": [
        {
          "output_type": "execute_result",
          "data": {
            "text/plain": [
              "대륙              0\n",
              "국적              0\n",
              "성별              0\n",
              "D-1(문화예술)     341\n",
              "D-2(유학)        39\n",
              "D-3(기술연수)     348\n",
              "D-4(일반연수)      90\n",
              "D-5(취재)       353\n",
              "D-6(종교)       239\n",
              "D-7(주재)       286\n",
              "D-8(기업투자)     221\n",
              "D-9(무역경영)     241\n",
              "D-10(구직)      175\n",
              "E-1(교수)       233\n",
              "E-2(회화강사)     315\n",
              "E-3(연구)       231\n",
              "E-4(기술지도)     331\n",
              "E-5(전문직업)     302\n",
              "E-6(예술흥행)     236\n",
              "E-7(특정활동)     149\n",
              "E-9(비전문취업)    312\n",
              "E-10(선원취업)    358\n",
              "F-1(방문동거)     158\n",
              "F-2(거주)       126\n",
              "F-3(동반)       120\n",
              "F-5(영주)       187\n",
              "F-6(결혼이민)     102\n",
              "G-1(기타)       182\n",
              "H-1(관광취업)     321\n",
              "H-2(방문취업)     352\n",
              "기타(other)     100\n",
              "dtype: int64"
            ]
          },
          "metadata": {},
          "execution_count": 7
        }
      ]
    },
    {
      "cell_type": "code",
      "metadata": {
        "colab": {
          "base_uri": "https://localhost:8080/",
          "height": 282
        },
        "id": "fsAiLTGCxBHt",
        "outputId": "21016a73-373a-49be-e90d-320c119d6fd8"
      },
      "source": [
        "df['대륙'].value_counts().plot.barh()"
      ],
      "execution_count": 17,
      "outputs": [
        {
          "output_type": "execute_result",
          "data": {
            "text/plain": [
              "<matplotlib.axes._subplots.AxesSubplot at 0x7f9747f414d0>"
            ]
          },
          "metadata": {},
          "execution_count": 17
        },
        {
          "output_type": "display_data",
          "data": {
            "image/png": "[encoded data removed]",
            "text/plain": [
              "<Figure size 432x288 with 1 Axes>"
            ]
          },
          "metadata": {
            "needs_background": "light"
          }
        }
      ]
    },
    {
      "cell_type": "code",
      "metadata": {
        "colab": {
          "base_uri": "https://localhost:8080/"
        },
        "id": "hbDmXEoyxBNH",
        "outputId": "036ef49d-54d9-4862-b121-925f53bc923b"
      },
      "source": [
        "df['국적'].value_counts()"
      ],
      "execution_count": 9,
      "outputs": [
        {
          "output_type": "execute_result",
          "data": {
            "text/plain": [
              "한국계러시아인    2\n",
              "캄보디아       2\n",
              "독일         2\n",
              "슬로베니아      2\n",
              "국제연합       2\n",
              "          ..\n",
              "세이셸        1\n",
              "지부티        1\n",
              "안도라        1\n",
              "앤티카바부다     1\n",
              "세인트루시아     1\n",
              "Name: 국적, Length: 192, dtype: int64"
            ]
          },
          "metadata": {},
          "execution_count": 9
        }
      ]
    },
    {
      "cell_type": "code",
      "metadata": {
        "id": "SZ1KwKAQxBbR"
      },
      "source": [
        "df = df.fillna(0)"
      ],
      "execution_count": 10,
      "outputs": []
    },
    {
      "cell_type": "code",
      "metadata": {
        "colab": {
          "base_uri": "https://localhost:8080/"
        },
        "id": "L4oqBXAmxB5r",
        "outputId": "cd9d2aaa-46dc-4148-b597-0354b33962d2"
      },
      "source": [
        "df.isnull().sum()"
      ],
      "execution_count": 11,
      "outputs": [
        {
          "output_type": "execute_result",
          "data": {
            "text/plain": [
              "대륙            0\n",
              "국적            0\n",
              "성별            0\n",
              "D-1(문화예술)     0\n",
              "D-2(유학)       0\n",
              "D-3(기술연수)     0\n",
              "D-4(일반연수)     0\n",
              "D-5(취재)       0\n",
              "D-6(종교)       0\n",
              "D-7(주재)       0\n",
              "D-8(기업투자)     0\n",
              "D-9(무역경영)     0\n",
              "D-10(구직)      0\n",
              "E-1(교수)       0\n",
              "E-2(회화강사)     0\n",
              "E-3(연구)       0\n",
              "E-4(기술지도)     0\n",
              "E-5(전문직업)     0\n",
              "E-6(예술흥행)     0\n",
              "E-7(특정활동)     0\n",
              "E-9(비전문취업)    0\n",
              "E-10(선원취업)    0\n",
              "F-1(방문동거)     0\n",
              "F-2(거주)       0\n",
              "F-3(동반)       0\n",
              "F-5(영주)       0\n",
              "F-6(결혼이민)     0\n",
              "G-1(기타)       0\n",
              "H-1(관광취업)     0\n",
              "H-2(방문취업)     0\n",
              "기타(other)     0\n",
              "dtype: int64"
            ]
          },
          "metadata": {},
          "execution_count": 11
        }
      ]
    },
    {
      "cell_type": "code",
      "metadata": {
        "colab": {
          "base_uri": "https://localhost:8080/"
        },
        "id": "BJaMLYMexClw",
        "outputId": "d99486bb-4cd0-4fb5-d5d6-72decbbd80b3"
      },
      "source": [
        "df.columns"
      ],
      "execution_count": 12,
      "outputs": [
        {
          "output_type": "execute_result",
          "data": {
            "text/plain": [
              "Index(['대륙', '국적', '성별', 'D-1(문화예술)', 'D-2(유학)', 'D-3(기술연수)', 'D-4(일반연수)',\n",
              "       'D-5(취재)', 'D-6(종교)', 'D-7(주재)', 'D-8(기업투자)', 'D-9(무역경영)', 'D-10(구직)',\n",
              "       'E-1(교수)', 'E-2(회화강사)', 'E-3(연구)', 'E-4(기술지도)', 'E-5(전문직업)',\n",
              "       'E-6(예술흥행)', 'E-7(특정활동)', 'E-9(비전문취업)', 'E-10(선원취업)', 'F-1(방문동거)',\n",
              "       'F-2(거주)', 'F-3(동반)', 'F-5(영주)', 'F-6(결혼이민)', 'G-1(기타)', 'H-1(관광취업)',\n",
              "       'H-2(방문취업)', '기타(other)'],\n",
              "      dtype='object')"
            ]
          },
          "metadata": {},
          "execution_count": 12
        }
      ]
    },
    {
      "cell_type": "code",
      "metadata": {
        "id": "2UiJmFtRxC0y"
      },
      "source": [
        "columns = ['D-1(문화예술)', 'D-2(유학)', 'D-3(기술연수)', 'D-4(일반연수)',\n",
        "       'D-5(취재)', 'D-6(종교)', 'D-7(주재)', 'D-8(기업투자)', 'D-9(무역경영)', 'D-10(구직)',\n",
        "       'E-1(교수)', 'E-2(회화강사)', 'E-3(연구)', 'E-4(기술지도)', 'E-5(전문직업)',\n",
        "       'E-6(예술흥행)', 'E-7(특정활동)', 'E-9(비전문취업)', 'E-10(선원취업)', 'F-1(방문동거)',\n",
        "       'F-2(거주)', 'F-3(동반)', 'F-5(영주)', 'F-6(결혼이민)', 'G-1(기타)', 'H-1(관광취업)',\n",
        "       'H-2(방문취업)', '기타(other)']\n",
        "      "
      ],
      "execution_count": 13,
      "outputs": []
    },
    {
      "cell_type": "code",
      "metadata": {
        "colab": {
          "base_uri": "https://localhost:8080/",
          "height": 408
        },
        "id": "71moImu8xC-A",
        "outputId": "a88239ea-18ec-4b00-d489-cc5589322fcd"
      },
      "source": [
        "df.pivot(index = ['대륙','국적','성별'], columns = columns)\n",
        "# df.pivot(index = ['대륙','국적','성별'], columns = columns, values = columns)"
      ],
      "execution_count": 20,
      "outputs": [
        {
          "output_type": "execute_result",
          "data": {
            "text/html": [
              "<div>\n",
              "<style scoped>\n",
              "    .dataframe tbody tr th:only-of-type {\n",
              "        vertical-align: middle;\n",
              "    }\n",
              "\n",
              "    .dataframe tbody tr th {\n",
              "        vertical-align: top;\n",
              "    }\n",
              "\n",
              "    .dataframe thead tr th {\n",
              "        text-align: left;\n",
              "    }\n",
              "\n",
              "    .dataframe thead tr:last-of-type th {\n",
              "        text-align: right;\n",
              "    }\n",
              "</style>\n",
              "<table border=\"1\" class=\"dataframe\">\n",
              "  <thead>\n",
              "    <tr>\n",
              "      <th>대륙</th>\n",
              "      <th>국적</th>\n",
              "      <th>성별</th>\n",
              "    </tr>\n",
              "  </thead>\n",
              "  <tbody>\n",
              "    <tr>\n",
              "      <th rowspan=\"5\" valign=\"top\">기타</th>\n",
              "      <th rowspan=\"2\" valign=\"top\">국제연합</th>\n",
              "      <th>남성</th>\n",
              "    </tr>\n",
              "    <tr>\n",
              "      <th>여성</th>\n",
              "    </tr>\n",
              "    <tr>\n",
              "      <th rowspan=\"2\" valign=\"top\">무국적</th>\n",
              "      <th>남성</th>\n",
              "    </tr>\n",
              "    <tr>\n",
              "      <th>여성</th>\n",
              "    </tr>\n",
              "    <tr>\n",
              "      <th>미등록국가</th>\n",
              "      <th>남성</th>\n",
              "    </tr>\n",
              "    <tr>\n",
              "      <th>...</th>\n",
              "      <th>...</th>\n",
              "      <th>...</th>\n",
              "    </tr>\n",
              "    <tr>\n",
              "      <th rowspan=\"5\" valign=\"top\">유럽주</th>\n",
              "      <th>핀란드</th>\n",
              "      <th>여성</th>\n",
              "    </tr>\n",
              "    <tr>\n",
              "      <th rowspan=\"2\" valign=\"top\">한국계러시아인</th>\n",
              "      <th>남성</th>\n",
              "    </tr>\n",
              "    <tr>\n",
              "      <th>여성</th>\n",
              "    </tr>\n",
              "    <tr>\n",
              "      <th rowspan=\"2\" valign=\"top\">헝가리</th>\n",
              "      <th>남성</th>\n",
              "    </tr>\n",
              "    <tr>\n",
              "      <th>여성</th>\n",
              "    </tr>\n",
              "  </tbody>\n",
              "</table>\n",
              "<p>371 rows × 0 columns</p>\n",
              "</div>"
            ],
            "text/plain": [
              "Empty DataFrame\n",
              "Columns: []\n",
              "Index: [(기타, 국제연합, 남성), (기타, 국제연합, 여성), (기타, 무국적, 남성), (기타, 무국적, 여성), (기타, 미등록국가, 남성), (기타, 미등록국가, 여성), (남아메리카주, 가이아나, 남성), (남아메리카주, 과테말라, 남성), (남아메리카주, 과테말라, 여성), (남아메리카주, 그레나다, 남성), (남아메리카주, 그레나다, 여성), (남아메리카주, 니카라과, 남성), (남아메리카주, 니카라과, 여성), (남아메리카주, 도미니카공화국, 남성), (남아메리카주, 도미니카공화국, 여성), (남아메리카주, 도미니카연방, 남성), (남아메리카주, 도미니카연방, 여성), (남아메리카주, 멕시코, 남성), (남아메리카주, 멕시코, 여성), (남아메리카주, 바베이도스, 남성), (남아메리카주, 바베이도스, 여성), (남아메리카주, 바하마, 여성), (남아메리카주, 베네수엘라, 남성), (남아메리카주, 베네수엘라, 여성), (남아메리카주, 벨리즈, 남성), (남아메리카주, 벨리즈, 여성), (남아메리카주, 볼리비아, 남성), (남아메리카주, 볼리비아, 여성), (남아메리카주, 브라질, 남성), (남아메리카주, 브라질, 여성), (남아메리카주, 세인트루시아, 여성), (남아메리카주, 세인트크리스토퍼네비스, 남성), (남아메리카주, 세인트크리스토퍼네비스, 여성), (남아메리카주, 수리남, 여성), (남아메리카주, 아르헨티나, 남성), (남아메리카주, 아르헨티나, 여성), (남아메리카주, 아이티, 남성), (남아메리카주, 아이티, 여성), (남아메리카주, 앤티카바부다, 남성), (남아메리카주, 에콰도르, 남성), (남아메리카주, 에콰도르, 여성), (남아메리카주, 엘살바도르, 남성), (남아메리카주, 엘살바도르, 여성), (남아메리카주, 온두라스, 남성), (남아메리카주, 온두라스, 여성), (남아메리카주, 우루과이, 남성), (남아메리카주, 우루과이, 여성), (남아메리카주, 자메이카, 남성), (남아메리카주, 자메이카, 여성), (남아메리카주, 칠레, 남성), (남아메리카주, 칠레, 여성), (남아메리카주, 코스타리카, 남성), (남아메리카주, 코스타리카, 여성), (남아메리카주, 콜롬비아, 남성), (남아메리카주, 콜롬비아, 여성), (남아메리카주, 쿠바, 남성), (남아메리카주, 쿠바, 여성), (남아메리카주, 트리니다드토바고, 남성), (남아메리카주, 트리니다드토바고, 여성), (남아메리카주, 파나마, 남성), (남아메리카주, 파나마, 여성), (남아메리카주, 파라과이, 남성), (남아메리카주, 파라과이, 여성), (남아메리카주, 페루, 남성), (남아메리카주, 페루, 여성), (북아메리카주, 미국, 남성), (북아메리카주, 미국, 여성), (북아메리카주, 캐나다, 남성), (북아메리카주, 캐나다, 여성), (아시아주, 네팔, 남성), (아시아주, 네팔, 여성), (아시아주, 라오스, 남성), (아시아주, 라오스, 여성), (아시아주, 레바논, 남성), (아시아주, 레바논, 여성), (아시아주, 마카오, 남성), (아시아주, 마카오, 여성), (아시아주, 말레이시아, 남성), (아시아주, 말레이시아, 여성), (아시아주, 몰디브, 남성), (아시아주, 몰디브, 여성), (아시아주, 몽골, 남성), (아시아주, 몽골, 여성), (아시아주, 미얀마, 남성), (아시아주, 미얀마, 여성), (아시아주, 바레인, 남성), (아시아주, 바레인, 여성), (아시아주, 방글라데시, 남성), (아시아주, 방글라데시, 여성), (아시아주, 베트남, 남성), (아시아주, 베트남, 여성), (아시아주, 부탄, 남성), (아시아주, 부탄, 여성), (아시아주, 브루나이, 남성), (아시아주, 브루나이, 여성), (아시아주, 사우디아라비아, 남성), (아시아주, 사우디아라비아, 여성), (아시아주, 스리랑카, 남성), (아시아주, 스리랑카, 여성), (아시아주, 시리아, 남성), ...]\n",
              "\n",
              "[371 rows x 0 columns]"
            ]
          },
          "metadata": {},
          "execution_count": 20
        }
      ]
    },
    {
      "cell_type": "code",
      "metadata": {
        "id": "pxxW0o4ITd7p"
      },
      "source": [
        ""
      ],
      "execution_count": 14,
      "outputs": []
    },
    {
      "cell_type": "code",
      "metadata": {
        "id": "voZh_6-lTeDn"
      },
      "source": [
        ""
      ],
      "execution_count": 14,
      "outputs": []
    },
    {
      "cell_type": "code",
      "metadata": {
        "id": "1CkzxVVDTegv"
      },
      "source": [
        ""
      ],
      "execution_count": 14,
      "outputs": []
    },
    {
      "cell_type": "code",
      "metadata": {
        "id": "FylewCYvTelA"
      },
      "source": [
        ""
      ],
      "execution_count": 14,
      "outputs": []
    },
    {
      "cell_type": "code",
      "metadata": {
        "id": "OVie52IZTen8"
      },
      "source": [
        ""
      ],
      "execution_count": 14,
      "outputs": []
    },
    {
      "cell_type": "code",
      "metadata": {
        "id": "d6_Tep1gTeqg"
      },
      "source": [
        ""
      ],
      "execution_count": 14,
      "outputs": []
    },
    {
      "cell_type": "code",
      "metadata": {
        "id": "NX55Sd26WyUn"
      },
      "source": [
        ""
      ],
      "execution_count": 14,
      "outputs": []
    }
  ]
}