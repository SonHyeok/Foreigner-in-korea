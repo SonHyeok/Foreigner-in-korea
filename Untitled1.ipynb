{
  "nbformat": 4,
  "nbformat_minor": 0,
  "metadata": {
    "colab": {
      "name": "Untitled1.ipynb",
      "provenance": [],
      "authorship_tag": "ABX9TyPjvF8fhLoqNZzQpQ0x2RYk",
      "include_colab_link": true
    },
    "kernelspec": {
      "name": "python3",
      "display_name": "Python 3"
    },
    "language_info": {
      "name": "python"
    }
  },
  "cells": [
    {
      "cell_type": "markdown",
      "metadata": {
        "id": "view-in-github",
        "colab_type": "text"
      },
      "source": [
        "<a href=\"https://colab.research.google.com/github/SonHyeok/Foreigner-in-korea/blob/main/Untitled1.ipynb\" target=\"_parent\"><img src=\"https://colab.research.google.com/assets/colab-badge.svg\" alt=\"Open In Colab\"/></a>"
      ]
    },
    {
      "cell_type": "code",
      "metadata": {
        "id": "XhU3BtRvSdfV"
      },
      "source": [
        "phone_book = {}"
      ],
      "execution_count": null,
      "outputs": []
    },
    {
      "cell_type": "code",
      "metadata": {
        "id": "dc635rqISV0t"
      },
      "source": [
        "phone_book['홍길동'] = '010-1234-5678'"
      ],
      "execution_count": null,
      "outputs": []
    },
    {
      "cell_type": "code",
      "metadata": {
        "colab": {
          "base_uri": "https://localhost:8080/"
        },
        "id": "uWqGBSICSgcN",
        "outputId": "c1750563-5e42-454b-cc5d-5a1cbdf5630a"
      },
      "source": [
        "print(phone_book)"
      ],
      "execution_count": null,
      "outputs": [
        {
          "output_type": "stream",
          "name": "stdout",
          "text": [
            "{'홍길동': '010-1234-5678'}\n"
          ]
        }
      ]
    },
    {
      "cell_type": "code",
      "metadata": {
        "id": "LxswRWpQSgeU"
      },
      "source": [
        "phone_book['강감찬'] = '010-1234-5679'"
      ],
      "execution_count": null,
      "outputs": []
    },
    {
      "cell_type": "code",
      "metadata": {
        "id": "B4m-y5fnSggf"
      },
      "source": [
        "phone_book['이순신'] = '010-1234-5680'"
      ],
      "execution_count": null,
      "outputs": []
    },
    {
      "cell_type": "code",
      "metadata": {
        "colab": {
          "base_uri": "https://localhost:8080/"
        },
        "id": "g-kyQZYzSgir",
        "outputId": "e1808e4a-650c-497c-d234-b3d2acf29fb4"
      },
      "source": [
        "print(phone_book)"
      ],
      "execution_count": null,
      "outputs": [
        {
          "output_type": "stream",
          "name": "stdout",
          "text": [
            "{'홍길동': '010-1234-5678', '강감찬': '010-1234-5679', '이순신': '010-1234-5680'}\n"
          ]
        }
      ]
    },
    {
      "cell_type": "code",
      "metadata": {
        "colab": {
          "base_uri": "https://localhost:8080/"
        },
        "id": "BwJ-FqHzSgk8",
        "outputId": "5b4ed732-4555-4924-96a6-df61f72aa7d8"
      },
      "source": [
        "person_dic = {'Name' : '홍길동', 'Age' : 27, 'Class' : '초급'}\n",
        "\n",
        "print(person_dic['Name'])\n",
        "print(person_dic['Age'])\n"
      ],
      "execution_count": null,
      "outputs": [
        {
          "output_type": "stream",
          "name": "stdout",
          "text": [
            "홍길동\n",
            "27\n"
          ]
        }
      ]
    },
    {
      "cell_type": "code",
      "metadata": {
        "colab": {
          "base_uri": "https://localhost:8080/"
        },
        "id": "kZN7Mbd2SgnN",
        "outputId": "57b8528d-0ebe-4d5c-b4ab-bd7a70fcf53f"
      },
      "source": [
        "print(phone_book['강감찬'])"
      ],
      "execution_count": null,
      "outputs": [
        {
          "output_type": "stream",
          "name": "stdout",
          "text": [
            "010-1234-5679\n"
          ]
        }
      ]
    },
    {
      "cell_type": "code",
      "metadata": {
        "colab": {
          "base_uri": "https://localhost:8080/"
        },
        "id": "iX4XDHMhSgpX",
        "outputId": "85936eba-4f6b-4754-e0bc-8b300ffaba48"
      },
      "source": [
        "phone_book.keys()"
      ],
      "execution_count": null,
      "outputs": [
        {
          "output_type": "execute_result",
          "data": {
            "text/plain": [
              "dict_keys(['홍길동', '강감찬', '이순신'])"
            ]
          },
          "metadata": {},
          "execution_count": 70
        }
      ]
    },
    {
      "cell_type": "code",
      "metadata": {
        "colab": {
          "base_uri": "https://localhost:8080/"
        },
        "id": "IU1d6TxjSgrr",
        "outputId": "0b49bb6b-e376-4c30-8e1b-e345fb5eac55"
      },
      "source": [
        "phone_book.values()"
      ],
      "execution_count": null,
      "outputs": [
        {
          "output_type": "execute_result",
          "data": {
            "text/plain": [
              "dict_values(['010-1234-5678', '010-1234-5679', '010-1234-5680'])"
            ]
          },
          "metadata": {},
          "execution_count": 71
        }
      ]
    },
    {
      "cell_type": "code",
      "metadata": {
        "colab": {
          "base_uri": "https://localhost:8080/"
        },
        "id": "OaYv9hjISgt8",
        "outputId": "bae6bfd5-f1a3-4efe-f1bd-381e3b562081"
      },
      "source": [
        "phone_book.items()"
      ],
      "execution_count": null,
      "outputs": [
        {
          "output_type": "execute_result",
          "data": {
            "text/plain": [
              "dict_items([('홍길동', '010-1234-5678'), ('강감찬', '010-1234-5679'), ('이순신', '010-1234-5680')])"
            ]
          },
          "metadata": {},
          "execution_count": 72
        }
      ]
    },
    {
      "cell_type": "code",
      "metadata": {
        "colab": {
          "base_uri": "https://localhost:8080/"
        },
        "id": "KijpKnOrSgwT",
        "outputId": "030bb8a6-2d98-4480-ab66-5d8f93d3ff3a"
      },
      "source": [
        "for name, phone_num in phone_book.items():\n",
        "    print(name,':',phone_num)\n",
        "\n"
      ],
      "execution_count": null,
      "outputs": [
        {
          "output_type": "stream",
          "name": "stdout",
          "text": [
            "홍길동 : 010-1234-5678\n",
            "강감찬 : 010-1234-5679\n",
            "이순신 : 010-1234-5680\n"
          ]
        }
      ]
    },
    {
      "cell_type": "code",
      "metadata": {
        "colab": {
          "base_uri": "https://localhost:8080/"
        },
        "id": "JtZzxhUXSgyc",
        "outputId": "02321f2a-24c4-4800-ef47-bdaebd6654b9"
      },
      "source": [
        "for key in phone_book.keys():\n",
        "    print(key,':',phone_book[key])"
      ],
      "execution_count": null,
      "outputs": [
        {
          "output_type": "stream",
          "name": "stdout",
          "text": [
            "홍길동 : 010-1234-5678\n",
            "강감찬 : 010-1234-5679\n",
            "이순신 : 010-1234-5680\n"
          ]
        }
      ]
    },
    {
      "cell_type": "code",
      "metadata": {
        "colab": {
          "base_uri": "https://localhost:8080/"
        },
        "id": "ipUJ_wxJSg04",
        "outputId": "a634a989-4d42-4b30-97d6-2b60740c5212"
      },
      "source": [
        "sorted(phone_book)\n"
      ],
      "execution_count": null,
      "outputs": [
        {
          "output_type": "execute_result",
          "data": {
            "text/plain": [
              "['강감찬', '이순신', '홍길동']"
            ]
          },
          "metadata": {},
          "execution_count": 75
        }
      ]
    },
    {
      "cell_type": "code",
      "metadata": {
        "colab": {
          "base_uri": "https://localhost:8080/"
        },
        "id": "TWLR1GQDSg3g",
        "outputId": "226338e1-248f-4513-94ce-306669b0ebed"
      },
      "source": [
        "sorted_phone_book = sorted(phone_book.items(), key = lambda x : x[0])\n",
        "print(sorted_phone_book)"
      ],
      "execution_count": null,
      "outputs": [
        {
          "output_type": "stream",
          "name": "stdout",
          "text": [
            "[('강감찬', '010-1234-5679'), ('이순신', '010-1234-5680'), ('홍길동', '010-1234-5678')]\n"
          ]
        }
      ]
    },
    {
      "cell_type": "code",
      "metadata": {
        "id": "DLi2AYqvSg56"
      },
      "source": [
        "# phone_book.clear()"
      ],
      "execution_count": null,
      "outputs": []
    },
    {
      "cell_type": "code",
      "metadata": {
        "colab": {
          "base_uri": "https://localhost:8080/"
        },
        "id": "vkbiTP1ZSg8Z",
        "outputId": "d17a5cb9-3629-406a-8d6d-8aa1cc098a5c"
      },
      "source": [
        "print(phone_book)"
      ],
      "execution_count": null,
      "outputs": [
        {
          "output_type": "stream",
          "name": "stdout",
          "text": [
            "{'홍길동': '010-1234-5678', '강감찬': '010-1234-5679', '이순신': '010-1234-5680'}\n"
          ]
        }
      ]
    },
    {
      "cell_type": "code",
      "metadata": {
        "id": "VsI1TeqrSg-w",
        "colab": {
          "base_uri": "https://localhost:8080/"
        },
        "outputId": "78c9b09d-8e95-4562-beb6-55e7e7e0c357"
      },
      "source": [
        "print('100과 200의 합 :', (lambda x,y : x + y)(100,200))"
      ],
      "execution_count": null,
      "outputs": [
        {
          "output_type": "stream",
          "name": "stdout",
          "text": [
            "100과 200의 합 : 300\n"
          ]
        }
      ]
    },
    {
      "cell_type": "code",
      "metadata": {
        "id": "cwxrl_-mShBE",
        "colab": {
          "base_uri": "https://localhost:8080/"
        },
        "outputId": "5fef5597-3593-4449-94a9-9aa3626b886c"
      },
      "source": [
        "print('200과 3의 곱 : ', (lambda x,y : x * y)(200,3))"
      ],
      "execution_count": null,
      "outputs": [
        {
          "output_type": "stream",
          "name": "stdout",
          "text": [
            "200과 3의 곱 :  600\n"
          ]
        }
      ]
    },
    {
      "cell_type": "code",
      "metadata": {
        "id": "lZAxTtrdShDY",
        "colab": {
          "base_uri": "https://localhost:8080/"
        },
        "outputId": "1e07599e-1716-4c18-b051-114d33e2dbac"
      },
      "source": [
        "sorted_phone_book1 = sorted(phone_book.items(), key = lambda x : x[0])\n",
        "print(sorted_phone_book1)"
      ],
      "execution_count": null,
      "outputs": [
        {
          "output_type": "stream",
          "name": "stdout",
          "text": [
            "[('강감찬', '010-1234-5679'), ('이순신', '010-1234-5680'), ('홍길동', '010-1234-5678')]\n"
          ]
        }
      ]
    },
    {
      "cell_type": "code",
      "metadata": {
        "id": "BJzYUL2lShF1",
        "colab": {
          "base_uri": "https://localhost:8080/"
        },
        "outputId": "1a93e77c-452d-4778-877e-e711b3c5c869"
      },
      "source": [
        "sorted_phone_book2 = sorted(phone_book.items(), key = lambda x : x[1])\n",
        "print(sorted_phone_book2)"
      ],
      "execution_count": null,
      "outputs": [
        {
          "output_type": "stream",
          "name": "stdout",
          "text": [
            "[('홍길동', '010-1234-5678'), ('강감찬', '010-1234-5679'), ('이순신', '010-1234-5680')]\n"
          ]
        }
      ]
    },
    {
      "cell_type": "code",
      "metadata": {
        "id": "qeCT2EULShIm",
        "colab": {
          "base_uri": "https://localhost:8080/"
        },
        "outputId": "af27d149-435d-4c0f-e599-f4b357d932c4"
      },
      "source": [
        "numbers = {2,1,3}\n",
        "if 1 in numbers:\n",
        "    print('집합 안에 있습니다')"
      ],
      "execution_count": null,
      "outputs": [
        {
          "output_type": "stream",
          "name": "stdout",
          "text": [
            "집합 안에 있습니다\n"
          ]
        }
      ]
    },
    {
      "cell_type": "code",
      "metadata": {
        "id": "lIciqMeMShKv",
        "colab": {
          "base_uri": "https://localhost:8080/"
        },
        "outputId": "a5f4073b-5b78-4738-d74c-b327b47df82b"
      },
      "source": [
        "for x in numbers:\n",
        "  print(x, end = ' ')"
      ],
      "execution_count": 84,
      "outputs": [
        {
          "output_type": "stream",
          "name": "stdout",
          "text": [
            "1 2 3 "
          ]
        }
      ]
    },
    {
      "cell_type": "code",
      "metadata": {
        "id": "sHEZzjMfShNP",
        "colab": {
          "base_uri": "https://localhost:8080/"
        },
        "outputId": "168e50e0-77fa-4c7a-f74e-a8587c2b63da"
      },
      "source": [
        "for x in sorted(numbers):\n",
        "  print(x , end = ' ')\n",
        "  "
      ],
      "execution_count": 85,
      "outputs": [
        {
          "output_type": "stream",
          "name": "stdout",
          "text": [
            "1 2 3 "
          ]
        }
      ]
    },
    {
      "cell_type": "code",
      "metadata": {
        "id": "aAMSYArQY2SB"
      },
      "source": [
        "numbers.add(4)"
      ],
      "execution_count": 86,
      "outputs": []
    },
    {
      "cell_type": "code",
      "metadata": {
        "id": "0jteg_frY2UA"
      },
      "source": [
        "numbers.remove(3)"
      ],
      "execution_count": 87,
      "outputs": []
    },
    {
      "cell_type": "code",
      "metadata": {
        "colab": {
          "base_uri": "https://localhost:8080/"
        },
        "id": "mEVW68waY2WI",
        "outputId": "fa8f9bea-92c5-4635-ad4d-bbdbe7aa1c68"
      },
      "source": [
        "print(numbers)"
      ],
      "execution_count": 88,
      "outputs": [
        {
          "output_type": "stream",
          "name": "stdout",
          "text": [
            "{1, 2, 4}\n"
          ]
        }
      ]
    },
    {
      "cell_type": "code",
      "metadata": {
        "colab": {
          "base_uri": "https://localhost:8080/"
        },
        "id": "O8l9x_erY2YV",
        "outputId": "0fd33e60-4c93-465b-a93c-8b65adf52221"
      },
      "source": [
        "A = {1,2,3}\n",
        "B = {1,2,3}\n",
        "A == B"
      ],
      "execution_count": 89,
      "outputs": [
        {
          "output_type": "execute_result",
          "data": {
            "text/plain": [
              "True"
            ]
          },
          "metadata": {},
          "execution_count": 89
        }
      ]
    },
    {
      "cell_type": "code",
      "metadata": {
        "colab": {
          "base_uri": "https://localhost:8080/"
        },
        "id": "PbIKltVQZtN8",
        "outputId": "b2a03e25-0eb9-4b72-f561-596e252b9fac"
      },
      "source": [
        "a_set = {1,5,4,3,7,4}\n",
        "len(a_set)"
      ],
      "execution_count": 90,
      "outputs": [
        {
          "output_type": "execute_result",
          "data": {
            "text/plain": [
              "5"
            ]
          },
          "metadata": {},
          "execution_count": 90
        }
      ]
    },
    {
      "cell_type": "code",
      "metadata": {
        "colab": {
          "base_uri": "https://localhost:8080/"
        },
        "id": "ar_8NIQsY2af",
        "outputId": "154e0d47-6786-4767-cb48-28e02285a7af"
      },
      "source": [
        "max(a_set)"
      ],
      "execution_count": 91,
      "outputs": [
        {
          "output_type": "execute_result",
          "data": {
            "text/plain": [
              "7"
            ]
          },
          "metadata": {},
          "execution_count": 91
        }
      ]
    },
    {
      "cell_type": "code",
      "metadata": {
        "colab": {
          "base_uri": "https://localhost:8080/"
        },
        "id": "mXCvCzW1Y2ci",
        "outputId": "2f61aa2d-a537-4d26-dce3-393fd3813ca9"
      },
      "source": [
        "min(a_set)"
      ],
      "execution_count": 92,
      "outputs": [
        {
          "output_type": "execute_result",
          "data": {
            "text/plain": [
              "1"
            ]
          },
          "metadata": {},
          "execution_count": 92
        }
      ]
    },
    {
      "cell_type": "code",
      "metadata": {
        "colab": {
          "base_uri": "https://localhost:8080/"
        },
        "id": "xm_Ws-oIY2ex",
        "outputId": "21dd09fa-6f43-408a-8d8b-d2662dd44c52"
      },
      "source": [
        "sorted(a_set)"
      ],
      "execution_count": 93,
      "outputs": [
        {
          "output_type": "execute_result",
          "data": {
            "text/plain": [
              "[1, 3, 4, 5, 7]"
            ]
          },
          "metadata": {},
          "execution_count": 93
        }
      ]
    },
    {
      "cell_type": "code",
      "metadata": {
        "colab": {
          "base_uri": "https://localhost:8080/"
        },
        "id": "90A4gIbSY2gy",
        "outputId": "750fcdb5-25a2-40ef-f1ce-fbc262fdd4be"
      },
      "source": [
        "sum(a_set)"
      ],
      "execution_count": 94,
      "outputs": [
        {
          "output_type": "execute_result",
          "data": {
            "text/plain": [
              "20"
            ]
          },
          "metadata": {},
          "execution_count": 94
        }
      ]
    },
    {
      "cell_type": "code",
      "metadata": {
        "colab": {
          "base_uri": "https://localhost:8080/"
        },
        "id": "lNoyru4CY2i-",
        "outputId": "36d9cc22-9ea8-4d92-a8ec-4b7bd88cef95"
      },
      "source": [
        "a_set = {1,0,2,3,3}\n",
        "all(a_set)"
      ],
      "execution_count": 95,
      "outputs": [
        {
          "output_type": "execute_result",
          "data": {
            "text/plain": [
              "False"
            ]
          },
          "metadata": {},
          "execution_count": 95
        }
      ]
    },
    {
      "cell_type": "code",
      "metadata": {
        "colab": {
          "base_uri": "https://localhost:8080/"
        },
        "id": "quqEMrOEY2lA",
        "outputId": "0461892b-dacd-4a32-c9b6-27e609a88b12"
      },
      "source": [
        "any(a_set)"
      ],
      "execution_count": 96,
      "outputs": [
        {
          "output_type": "execute_result",
          "data": {
            "text/plain": [
              "True"
            ]
          },
          "metadata": {},
          "execution_count": 96
        }
      ]
    },
    {
      "cell_type": "code",
      "metadata": {
        "id": "GJPnTRKgY2m6"
      },
      "source": [
        "A = {1,2,3}\n",
        "B = {3,4,5}"
      ],
      "execution_count": 97,
      "outputs": []
    },
    {
      "cell_type": "code",
      "metadata": {
        "colab": {
          "base_uri": "https://localhost:8080/"
        },
        "id": "Qyu35iJgY2pD",
        "outputId": "fe988f60-d6ae-4771-9b95-6c5650f76f57"
      },
      "source": [
        "A|B"
      ],
      "execution_count": 98,
      "outputs": [
        {
          "output_type": "execute_result",
          "data": {
            "text/plain": [
              "{1, 2, 3, 4, 5}"
            ]
          },
          "metadata": {},
          "execution_count": 98
        }
      ]
    },
    {
      "cell_type": "code",
      "metadata": {
        "id": "2hzvE6mwShP1",
        "colab": {
          "base_uri": "https://localhost:8080/"
        },
        "outputId": "68ff4a33-0ff8-4ab7-d01b-689d67391508"
      },
      "source": [
        "A.union(B)"
      ],
      "execution_count": 99,
      "outputs": [
        {
          "output_type": "execute_result",
          "data": {
            "text/plain": [
              "{1, 2, 3, 4, 5}"
            ]
          },
          "metadata": {},
          "execution_count": 99
        }
      ]
    },
    {
      "cell_type": "code",
      "metadata": {
        "id": "eN8xm14UShSG",
        "colab": {
          "base_uri": "https://localhost:8080/"
        },
        "outputId": "c8075307-9dc2-4fd9-eb9b-85fc1b818f1b"
      },
      "source": [
        "A & B"
      ],
      "execution_count": 100,
      "outputs": [
        {
          "output_type": "execute_result",
          "data": {
            "text/plain": [
              "{3}"
            ]
          },
          "metadata": {},
          "execution_count": 100
        }
      ]
    },
    {
      "cell_type": "code",
      "metadata": {
        "id": "MFBH2QvQShUS",
        "colab": {
          "base_uri": "https://localhost:8080/"
        },
        "outputId": "bec67f2f-7981-4530-cefa-d6bdd4670b43"
      },
      "source": [
        "A.intersection(B)"
      ],
      "execution_count": 101,
      "outputs": [
        {
          "output_type": "execute_result",
          "data": {
            "text/plain": [
              "{3}"
            ]
          },
          "metadata": {},
          "execution_count": 101
        }
      ]
    },
    {
      "cell_type": "code",
      "metadata": {
        "colab": {
          "base_uri": "https://localhost:8080/"
        },
        "id": "1ptV0RolbUPk",
        "outputId": "c6c3205e-5d3c-4990-d991-bd18b57b0d1a"
      },
      "source": [
        "A - B\n"
      ],
      "execution_count": 102,
      "outputs": [
        {
          "output_type": "execute_result",
          "data": {
            "text/plain": [
              "{1, 2}"
            ]
          },
          "metadata": {},
          "execution_count": 102
        }
      ]
    },
    {
      "cell_type": "code",
      "metadata": {
        "colab": {
          "base_uri": "https://localhost:8080/"
        },
        "id": "FqgEiMDibURl",
        "outputId": "b02d8e4c-8641-43c4-edc9-08e33147ef5f"
      },
      "source": [
        "A.difference(B)\n"
      ],
      "execution_count": 103,
      "outputs": [
        {
          "output_type": "execute_result",
          "data": {
            "text/plain": [
              "{1, 2}"
            ]
          },
          "metadata": {},
          "execution_count": 103
        }
      ]
    },
    {
      "cell_type": "code",
      "metadata": {
        "colab": {
          "base_uri": "https://localhost:8080/"
        },
        "id": "iFjr5PzGbUTc",
        "outputId": "bb77229a-ce26-48a1-e2c4-0254ccd614d2"
      },
      "source": [
        "A ^ B"
      ],
      "execution_count": 104,
      "outputs": [
        {
          "output_type": "execute_result",
          "data": {
            "text/plain": [
              "{1, 2, 4, 5}"
            ]
          },
          "metadata": {},
          "execution_count": 104
        }
      ]
    },
    {
      "cell_type": "code",
      "metadata": {
        "colab": {
          "base_uri": "https://localhost:8080/"
        },
        "id": "zmTtyhtBbUVh",
        "outputId": "a3fd75fa-67b4-4328-9a9d-c9a1fee72e6b"
      },
      "source": [
        "A.symmetric_difference(B)"
      ],
      "execution_count": 105,
      "outputs": [
        {
          "output_type": "execute_result",
          "data": {
            "text/plain": [
              "{1, 2, 4, 5}"
            ]
          },
          "metadata": {},
          "execution_count": 105
        }
      ]
    },
    {
      "cell_type": "code",
      "metadata": {
        "colab": {
          "base_uri": "https://localhost:8080/"
        },
        "id": "Jb4YtXz_bUXu",
        "outputId": "1327f65b-dc2e-46e6-a0f3-ad343353848d"
      },
      "source": [
        "num = 10\n",
        "divisors = []\n",
        "\n",
        "for i in range(2,num):\n",
        "  if num % i == 0:\n",
        "    divisors.append(i)\n",
        "\n",
        "print('{}의 진약수 : {}'.format(num,divisors))"
      ],
      "execution_count": 107,
      "outputs": [
        {
          "output_type": "stream",
          "name": "stdout",
          "text": [
            "10의 진약수 : [2, 5]\n"
          ]
        }
      ]
    },
    {
      "cell_type": "code",
      "metadata": {
        "colab": {
          "base_uri": "https://localhost:8080/"
        },
        "id": "bpHfGkEFbUZg",
        "outputId": "e23ad95a-0aab-42a4-b150-894596c7ab14"
      },
      "source": [
        "def get_divisors(num):\n",
        "  divisors = set()\n",
        "  for i in range(2, num):\n",
        "    if num % i == 0:\n",
        "      divisors.add(i)\n",
        "  return divisors\n",
        "\n",
        "x = 48\n",
        "print('{}의 진약수 : {}'.format(x,get_divisors(x)))\n",
        "\n",
        "y = 60\n",
        "print('{}의 진약수 : {}'.format(y,get_divisors(y)))\n"
      ],
      "execution_count": 109,
      "outputs": [
        {
          "output_type": "stream",
          "name": "stdout",
          "text": [
            "48의 진약수 : {2, 3, 4, 6, 8, 12, 16, 24}\n",
            "60의 진약수 : {2, 3, 4, 5, 6, 10, 12, 15, 20, 30}\n"
          ]
        }
      ]
    },
    {
      "cell_type": "code",
      "metadata": {
        "colab": {
          "base_uri": "https://localhost:8080/"
        },
        "id": "JpyrCDYlbUbt",
        "outputId": "5709749f-0808-4845-a6ce-ad89cec42d9a"
      },
      "source": [
        "A = get_divisors(x)\n",
        "B = get_divisors(y)\n",
        "\n",
        "print(A.intersection(B))\n",
        "print('{} {}의 최대 공약수 : {}'.format(x,y,max(A.intersection(B))))"
      ],
      "execution_count": 113,
      "outputs": [
        {
          "output_type": "stream",
          "name": "stdout",
          "text": [
            "{2, 3, 4, 6, 12}\n",
            "48 60의 최대 공약수 : 12\n"
          ]
        }
      ]
    },
    {
      "cell_type": "code",
      "metadata": {
        "id": "7ajsnb2_bUd-"
      },
      "source": [
        ""
      ],
      "execution_count": null,
      "outputs": []
    },
    {
      "cell_type": "code",
      "metadata": {
        "id": "Kfh07x4vbUgA"
      },
      "source": [
        ""
      ],
      "execution_count": null,
      "outputs": []
    },
    {
      "cell_type": "code",
      "metadata": {
        "id": "TGaIymQPbUil"
      },
      "source": [
        ""
      ],
      "execution_count": null,
      "outputs": []
    },
    {
      "cell_type": "code",
      "metadata": {
        "id": "jkd0axhpbUkS"
      },
      "source": [
        ""
      ],
      "execution_count": null,
      "outputs": []
    },
    {
      "cell_type": "code",
      "metadata": {
        "id": "UkPfXNXIbUms"
      },
      "source": [
        ""
      ],
      "execution_count": null,
      "outputs": []
    },
    {
      "cell_type": "code",
      "metadata": {
        "id": "nVX3oAtBbUoq"
      },
      "source": [
        ""
      ],
      "execution_count": null,
      "outputs": []
    },
    {
      "cell_type": "code",
      "metadata": {
        "id": "ifGNleu3bUqo"
      },
      "source": [
        ""
      ],
      "execution_count": null,
      "outputs": []
    },
    {
      "cell_type": "code",
      "metadata": {
        "id": "FuHjIs0gbUs3"
      },
      "source": [
        ""
      ],
      "execution_count": null,
      "outputs": []
    },
    {
      "cell_type": "code",
      "metadata": {
        "id": "4Uli3V1yShWL"
      },
      "source": [
        ""
      ],
      "execution_count": null,
      "outputs": []
    }
  ]
}